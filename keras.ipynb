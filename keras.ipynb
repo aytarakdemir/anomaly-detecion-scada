{
 "cells": [
  {
   "cell_type": "code",
   "execution_count": 1,
   "metadata": {
    "id": "NlUU_aNIWeN5"
   },
   "outputs": [],
   "source": [
    "import tensorflow as tf\n",
    "import pandas as pd\n",
    "import numpy as np\n",
    "import random\n",
    "from sklearn.model_selection import train_test_split"
   ]
  },
  {
   "cell_type": "code",
   "execution_count": 5,
   "metadata": {
    "id": "y0RigwWJWzYG"
   },
   "outputs": [],
   "source": [
    "test = pd.read_csv('/content/drive/MyDrive/security/UNSW_NB15_testing-set.csv')\n",
    "train = pd.read_csv('/content/drive/MyDrive/security/UNSW_NB15_training-set.csv')"
   ]
  },
  {
   "cell_type": "code",
   "execution_count": 6,
   "metadata": {
    "id": "KRgX72VKW5A8"
   },
   "outputs": [],
   "source": [
    "dataset = pd.concat([test, train])\n",
    "dataset.drop(columns=['id'], inplace=True)"
   ]
  },
  {
   "cell_type": "code",
   "execution_count": 7,
   "metadata": {
    "id": "WVSDlh8tW7UH"
   },
   "outputs": [],
   "source": [
    "x = dataset[dataset.columns[:-1]].to_numpy()\n",
    "y = dataset['label'].to_numpy()"
   ]
  },
  {
   "cell_type": "code",
   "execution_count": 8,
   "metadata": {
    "id": "ExxcjwvqW869"
   },
   "outputs": [],
   "source": [
    "X_train, X_test, y_train, y_test = train_test_split(x, y, test_size=0.20, random_state=42)\n",
    "X_train, X_cv, y_train, y_cv = train_test_split(X_train, y_train, test_size=0.20, random_state=42)"
   ]
  },
  {
   "cell_type": "code",
   "execution_count": 27,
   "metadata": {
    "id": "UDbi59IsW-0M"
   },
   "outputs": [],
   "source": [
    "model = tf.keras.models.Sequential([\n",
    "                tf.keras.layers.Flatten(input_shape=(42,1)),\n",
    "                tf.keras.layers.Dense(16,activation='relu'),\n",
    "                tf.keras.layers.Dense(8,activation='relu'),\n",
    "                # tf.keras.layers.Dropout(0.25),\n",
    "                tf.keras.layers.Dense(84,activation='relu'),\n",
    "                tf.keras.layers.Dense(2,activation='softmax')\n",
    "])"
   ]
  },
  {
   "cell_type": "code",
   "execution_count": 28,
   "metadata": {
    "colab": {
     "base_uri": "https://localhost:8080/"
    },
    "id": "xGe_pzv-XA2J",
    "outputId": "5ad8411b-796f-40cd-cff3-fe335b18dd42"
   },
   "outputs": [
    {
     "name": "stdout",
     "output_type": "stream",
     "text": [
      "Model: \"sequential_4\"\n",
      "_________________________________________________________________\n",
      "Layer (type)                 Output Shape              Param #   \n",
      "=================================================================\n",
      "flatten_4 (Flatten)          (None, 42)                0         \n",
      "_________________________________________________________________\n",
      "dense_14 (Dense)             (None, 16)                688       \n",
      "_________________________________________________________________\n",
      "dense_15 (Dense)             (None, 8)                 136       \n",
      "_________________________________________________________________\n",
      "dense_16 (Dense)             (None, 84)                756       \n",
      "_________________________________________________________________\n",
      "dense_17 (Dense)             (None, 2)                 170       \n",
      "=================================================================\n",
      "Total params: 1,750\n",
      "Trainable params: 1,750\n",
      "Non-trainable params: 0\n",
      "_________________________________________________________________\n"
     ]
    }
   ],
   "source": [
    "model.summary()"
   ]
  },
  {
   "cell_type": "code",
   "execution_count": 29,
   "metadata": {
    "id": "bnUNcLIlXDNi"
   },
   "outputs": [],
   "source": [
    "model.compile(loss='sparse_categorical_crossentropy', optimizer='adam', metrics=['accuracy'])"
   ]
  },
  {
   "cell_type": "code",
   "execution_count": 30,
   "metadata": {
    "colab": {
     "base_uri": "https://localhost:8080/"
    },
    "id": "RbGmkwGTXFF8",
    "outputId": "8da8b70b-8e06-439e-b257-c558d08838a9"
   },
   "outputs": [
    {
     "name": "stdout",
     "output_type": "stream",
     "text": [
      "Epoch 1/2\n",
      "5154/5154 [==============================] - 8s 1ms/step - loss: 1202925.0172 - accuracy: 0.6881 - val_loss: 523.2596 - val_accuracy: 0.7096\n",
      "Epoch 2/2\n",
      "5154/5154 [==============================] - 8s 1ms/step - loss: 89.0625 - accuracy: 0.7134 - val_loss: 1.0016 - val_accuracy: 0.7143\n"
     ]
    },
    {
     "data": {
      "text/plain": [
       "<tensorflow.python.keras.callbacks.History at 0x7f17bf572198>"
      ]
     },
     "execution_count": 30,
     "metadata": {
      "tags": []
     },
     "output_type": "execute_result"
    }
   ],
   "source": [
    "model.fit(X_train, y_train, epochs=2,validation_data=(X_cv, y_cv))"
   ]
  },
  {
   "cell_type": "code",
   "execution_count": 31,
   "metadata": {
    "colab": {
     "base_uri": "https://localhost:8080/"
    },
    "id": "HvNRcOCMXK31",
    "outputId": "5dca224f-dda9-4c02-955f-f05d1d50840a"
   },
   "outputs": [
    {
     "name": "stdout",
     "output_type": "stream",
     "text": [
      "1611/1611 - 1s - loss: 0.6235 - accuracy: 0.7144\n",
      "\n",
      "Test accuracy: 0.7144076824188232\n"
     ]
    }
   ],
   "source": [
    "test_loss, test_acc = model.evaluate(X_test,  y_test, verbose=2)\n",
    "\n",
    "print('\\nTest accuracy:', test_acc)"
   ]
  }
 ],
 "metadata": {
  "colab": {
   "name": "Untitled0.ipynb",
   "provenance": []
  },
  "kernelspec": {
   "display_name": "Python 3",
   "language": "python",
   "name": "python3"
  },
  "language_info": {
   "codemirror_mode": {
    "name": "ipython",
    "version": 3
   },
   "file_extension": ".py",
   "mimetype": "text/x-python",
   "name": "python",
   "nbconvert_exporter": "python",
   "pygments_lexer": "ipython3",
   "version": "3.8.2"
  }
 },
 "nbformat": 4,
 "nbformat_minor": 1
}
